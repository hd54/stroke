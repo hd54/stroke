{
 "cells": [
  {
   "cell_type": "markdown",
   "id": "d29fc0fc-8fdb-4aad-98bb-bd1c761ef9d8",
   "metadata": {},
   "source": [
    "# Stroke Predictor - DSCI 100 Group Project Report\n",
    "\n",
    "## 1. Introduction\n",
    "\n",
    "The chances of getting a stroke can often be predicted by certain factors such as glucose level and smoking status. Being able to tell a person if they are categorized to have a higher chance of stroke gives a person a chance to reduce said factors in hopes of preventing a stroke. The question and purpose of our project is to classify a large set of data that gives the factors that lead to stroke and then, when given a new example, predict if the person is likely to have a stroke.\n",
    "The data set is provided on Kaggle (https://www.kaggle.com/datasets/fedesoriano/stroke-prediction-dataset), which lists various background clinical features from the patients, such as disease history and age, all potentially useful in predicting a stroke. "
   ]
  },
  {
   "cell_type": "markdown",
   "id": "ebb9ca03-f650-4e93-bbd5-e36756eaec87",
   "metadata": {},
   "source": [
    "Below are some preliminary exploratory data analysis to visualize the data before classifying it."
   ]
  },
  {
   "cell_type": "markdown",
   "id": "1a39536e-5e19-4a26-81d6-9271ae1360a5",
   "metadata": {},
   "source": [
    "## 2. Exploratory data analysis"
   ]
  },
  {
   "cell_type": "code",
   "execution_count": 10,
   "id": "8eba81b9-c933-4c6c-8563-34d6d3a1e441",
   "metadata": {},
   "outputs": [
    {
     "name": "stderr",
     "output_type": "stream",
     "text": [
      "Updating HTML index of packages in '.Library'\n",
      "\n",
      "Making 'packages.html' ...\n",
      " done\n",
      "\n"
     ]
    }
   ],
   "source": [
    "### LOADING LIBRARY\n",
    "\n",
    "### Run this cell before continuing.\n",
    "library(plyr)\n",
    "library(tidyverse)\n",
    "library(repr)\n",
    "library(tidymodels)\n",
    "library(cowplot)\n",
    "install.packages(\"themis\")\n",
    "library(themis)\n",
    "\n",
    "\n",
    "options(repr.matrix.max.rows = 6)\n"
   ]
  },
  {
   "cell_type": "markdown",
   "id": "3b62c3ec-3d72-41d9-a63b-4118b6af3916",
   "metadata": {},
   "source": [
    "### Read dataset from web into R"
   ]
  },
  {
   "cell_type": "code",
   "execution_count": 3,
   "id": "60c0036b-12fb-4cd3-bc45-b0c67d6f59de",
   "metadata": {},
   "outputs": [
    {
     "name": "stderr",
     "output_type": "stream",
     "text": [
      "\u001b[1mRows: \u001b[22m\u001b[34m5110\u001b[39m \u001b[1mColumns: \u001b[22m\u001b[34m12\u001b[39m\n",
      "\u001b[36m──\u001b[39m \u001b[1mColumn specification\u001b[22m \u001b[36m────────────────────────────────────────────────────────\u001b[39m\n",
      "\u001b[1mDelimiter:\u001b[22m \",\"\n",
      "\u001b[31mchr\u001b[39m (6): gender, ever_married, work_type, Residence_type, bmi, smoking_status\n",
      "\u001b[32mdbl\u001b[39m (6): id, age, hypertension, heart_disease, avg_glucose_level, stroke\n",
      "\n",
      "\u001b[36mℹ\u001b[39m Use `spec()` to retrieve the full column specification for this data.\n",
      "\u001b[36mℹ\u001b[39m Specify the column types or set `show_col_types = FALSE` to quiet this message.\n",
      "Warning message in mask$eval_all_mutate(quo):\n",
      "“NAs introduced by coercion”\n"
     ]
    },
    {
     "data": {
      "text/html": [
       "<table class=\"dataframe\">\n",
       "<caption>A tibble: 5110 × 12</caption>\n",
       "<thead>\n",
       "\t<tr><th scope=col>id</th><th scope=col>gender</th><th scope=col>age</th><th scope=col>hypertension</th><th scope=col>heart_disease</th><th scope=col>ever_married</th><th scope=col>work_type</th><th scope=col>Residence_type</th><th scope=col>avg_glucose_level</th><th scope=col>bmi</th><th scope=col>smoking_status</th><th scope=col>stroke</th></tr>\n",
       "\t<tr><th scope=col>&lt;dbl&gt;</th><th scope=col>&lt;chr&gt;</th><th scope=col>&lt;dbl&gt;</th><th scope=col>&lt;dbl&gt;</th><th scope=col>&lt;dbl&gt;</th><th scope=col>&lt;chr&gt;</th><th scope=col>&lt;chr&gt;</th><th scope=col>&lt;chr&gt;</th><th scope=col>&lt;dbl&gt;</th><th scope=col>&lt;dbl&gt;</th><th scope=col>&lt;chr&gt;</th><th scope=col>&lt;fct&gt;</th></tr>\n",
       "</thead>\n",
       "<tbody>\n",
       "\t<tr><td> 9046</td><td>Male  </td><td>67</td><td>0</td><td>1</td><td>Yes</td><td>Private      </td><td>Urban</td><td>228.69</td><td>36.6</td><td>formerly smoked</td><td>1</td></tr>\n",
       "\t<tr><td>51676</td><td>Female</td><td>61</td><td>0</td><td>0</td><td>Yes</td><td>Self-employed</td><td>Rural</td><td>202.21</td><td>  NA</td><td>never smoked   </td><td>1</td></tr>\n",
       "\t<tr><td>31112</td><td>Male  </td><td>80</td><td>0</td><td>1</td><td>Yes</td><td>Private      </td><td>Rural</td><td>105.92</td><td>32.5</td><td>never smoked   </td><td>1</td></tr>\n",
       "\t<tr><td>⋮</td><td>⋮</td><td>⋮</td><td>⋮</td><td>⋮</td><td>⋮</td><td>⋮</td><td>⋮</td><td>⋮</td><td>⋮</td><td>⋮</td><td>⋮</td></tr>\n",
       "\t<tr><td>19723</td><td>Female</td><td>35</td><td>0</td><td>0</td><td>Yes</td><td>Self-employed</td><td>Rural</td><td> 82.99</td><td>30.6</td><td>never smoked   </td><td>0</td></tr>\n",
       "\t<tr><td>37544</td><td>Male  </td><td>51</td><td>0</td><td>0</td><td>Yes</td><td>Private      </td><td>Rural</td><td>166.29</td><td>25.6</td><td>formerly smoked</td><td>0</td></tr>\n",
       "\t<tr><td>44679</td><td>Female</td><td>44</td><td>0</td><td>0</td><td>Yes</td><td>Govt_job     </td><td>Urban</td><td> 85.28</td><td>26.2</td><td>Unknown        </td><td>0</td></tr>\n",
       "</tbody>\n",
       "</table>\n"
      ],
      "text/latex": [
       "A tibble: 5110 × 12\n",
       "\\begin{tabular}{llllllllllll}\n",
       " id & gender & age & hypertension & heart\\_disease & ever\\_married & work\\_type & Residence\\_type & avg\\_glucose\\_level & bmi & smoking\\_status & stroke\\\\\n",
       " <dbl> & <chr> & <dbl> & <dbl> & <dbl> & <chr> & <chr> & <chr> & <dbl> & <dbl> & <chr> & <fct>\\\\\n",
       "\\hline\n",
       "\t  9046 & Male   & 67 & 0 & 1 & Yes & Private       & Urban & 228.69 & 36.6 & formerly smoked & 1\\\\\n",
       "\t 51676 & Female & 61 & 0 & 0 & Yes & Self-employed & Rural & 202.21 &   NA & never smoked    & 1\\\\\n",
       "\t 31112 & Male   & 80 & 0 & 1 & Yes & Private       & Rural & 105.92 & 32.5 & never smoked    & 1\\\\\n",
       "\t ⋮ & ⋮ & ⋮ & ⋮ & ⋮ & ⋮ & ⋮ & ⋮ & ⋮ & ⋮ & ⋮ & ⋮\\\\\n",
       "\t 19723 & Female & 35 & 0 & 0 & Yes & Self-employed & Rural &  82.99 & 30.6 & never smoked    & 0\\\\\n",
       "\t 37544 & Male   & 51 & 0 & 0 & Yes & Private       & Rural & 166.29 & 25.6 & formerly smoked & 0\\\\\n",
       "\t 44679 & Female & 44 & 0 & 0 & Yes & Govt\\_job      & Urban &  85.28 & 26.2 & Unknown         & 0\\\\\n",
       "\\end{tabular}\n"
      ],
      "text/markdown": [
       "\n",
       "A tibble: 5110 × 12\n",
       "\n",
       "| id &lt;dbl&gt; | gender &lt;chr&gt; | age &lt;dbl&gt; | hypertension &lt;dbl&gt; | heart_disease &lt;dbl&gt; | ever_married &lt;chr&gt; | work_type &lt;chr&gt; | Residence_type &lt;chr&gt; | avg_glucose_level &lt;dbl&gt; | bmi &lt;dbl&gt; | smoking_status &lt;chr&gt; | stroke &lt;fct&gt; |\n",
       "|---|---|---|---|---|---|---|---|---|---|---|---|\n",
       "|  9046 | Male   | 67 | 0 | 1 | Yes | Private       | Urban | 228.69 | 36.6 | formerly smoked | 1 |\n",
       "| 51676 | Female | 61 | 0 | 0 | Yes | Self-employed | Rural | 202.21 |   NA | never smoked    | 1 |\n",
       "| 31112 | Male   | 80 | 0 | 1 | Yes | Private       | Rural | 105.92 | 32.5 | never smoked    | 1 |\n",
       "| ⋮ | ⋮ | ⋮ | ⋮ | ⋮ | ⋮ | ⋮ | ⋮ | ⋮ | ⋮ | ⋮ | ⋮ |\n",
       "| 19723 | Female | 35 | 0 | 0 | Yes | Self-employed | Rural |  82.99 | 30.6 | never smoked    | 0 |\n",
       "| 37544 | Male   | 51 | 0 | 0 | Yes | Private       | Rural | 166.29 | 25.6 | formerly smoked | 0 |\n",
       "| 44679 | Female | 44 | 0 | 0 | Yes | Govt_job      | Urban |  85.28 | 26.2 | Unknown         | 0 |\n",
       "\n"
      ],
      "text/plain": [
       "     id    gender age hypertension heart_disease ever_married work_type    \n",
       "1     9046 Male   67  0            1             Yes          Private      \n",
       "2    51676 Female 61  0            0             Yes          Self-employed\n",
       "3    31112 Male   80  0            1             Yes          Private      \n",
       "⋮    ⋮     ⋮      ⋮   ⋮            ⋮             ⋮            ⋮            \n",
       "5108 19723 Female 35  0            0             Yes          Self-employed\n",
       "5109 37544 Male   51  0            0             Yes          Private      \n",
       "5110 44679 Female 44  0            0             Yes          Govt_job     \n",
       "     Residence_type avg_glucose_level bmi  smoking_status  stroke\n",
       "1    Urban          228.69            36.6 formerly smoked 1     \n",
       "2    Rural          202.21              NA never smoked    1     \n",
       "3    Rural          105.92            32.5 never smoked    1     \n",
       "⋮    ⋮              ⋮                 ⋮    ⋮               ⋮     \n",
       "5108 Rural           82.99            30.6 never smoked    0     \n",
       "5109 Rural          166.29            25.6 formerly smoked 0     \n",
       "5110 Urban           85.28            26.2 Unknown         0     "
      ]
     },
     "metadata": {},
     "output_type": "display_data"
    }
   ],
   "source": [
    "url <- \"https://gist.githubusercontent.com/aishwarya8615/d2107f828d3f904839cbcb7eaa85bd04/raw/cec0340503d82d270821e03254993b6dede60afb/healthcare-dataset-stroke-data.csv\"\n",
    "stroke_data <- read_csv(url)\n",
    "\n",
    "## modify variable types\n",
    "stroke_data_final <- stroke_data |>\n",
    "                    mutate (stroke = as.factor(stroke),\n",
    "                           bmi = as.numeric(bmi))\n",
    "stroke_data_final"
   ]
  },
  {
   "cell_type": "markdown",
   "id": "74741184-c77e-4205-a071-302f4fc7607e",
   "metadata": {},
   "source": [
    "**Table 2.1** Stroke data set.\n",
    "\n",
    "    1) id: unique identifier\n",
    "    2) gender: \"Male\", \"Female\" or \"Other\"\n",
    "    3) age: age of the patient\n",
    "    4) hypertension: 0 if the patient doesn't have hypertension, 1 if the patient has hypertension\n",
    "    5) heart_disease: 0 if the patient doesn't have any heart diseases, 1 if the patient has a heart disease\n",
    "    6) ever_married: \"No\" or \"Yes\"\n",
    "    7) work_type: \"children\", \"Govt_jov\", \"Never_worked\", \"Private\" or \"Self-employed\"\n",
    "    8) Residence_type: \"Rural\" or \"Urban\"\n",
    "    9) avg_glucose_level: average glucose level in blood\n",
    "    10) bmi: body mass index\n",
    "    11) smoking_status: \"formerly smoked\", \"never smoked\", \"smokes\" or \"Unknown\"*\n",
    "    12) stroke: 1 if the patient had a stroke or 0 if not"
   ]
  },
  {
   "cell_type": "markdown",
   "id": "5314eebd-748c-48a5-a3d9-0572c28ace63",
   "metadata": {},
   "source": [
    "To view what correlation various factors have on developing stroke, we will plot three scatter graphs: age vs. average glucose level, age vs. BMI, and BMI vs. average glucose level. These three variables were chosen because they were continuous measurements and are closely related to the develpopment of stroke. "
   ]
  },
  {
   "cell_type": "markdown",
   "id": "224a8ead-b98d-45aa-abed-cac419bc45b4",
   "metadata": {},
   "source": [
    "Splitting the dataset into training and testing datasets based on stroke history. Since we only consider continuous variables, we will be selecting only those columns from the original data set before doing the data split. "
   ]
  },
  {
   "cell_type": "code",
   "execution_count": 4,
   "id": "1463a798-341e-49ad-a108-bb7f8b845a59",
   "metadata": {},
   "outputs": [],
   "source": [
    "set.seed(1)\n",
    "\n",
    "# also remove rows with N/A data\n",
    "stroke_data_final_selected <- stroke_data_final |> \n",
    "    select(age,avg_glucose_level,bmi,stroke) |> \n",
    "    drop_na()\n",
    "\n",
    "stroke_split <- initial_split(stroke_data_final_selected, prop = 0.75, strata = stroke)\n",
    "stroke_train <- training(stroke_split)\n",
    "stroke_test <- testing(stroke_split)"
   ]
  },
  {
   "cell_type": "markdown",
   "id": "5c87cd70-9037-429e-8425-62d56158a7d7",
   "metadata": {},
   "source": [
    "### Preliminary Summary"
   ]
  },
  {
   "cell_type": "markdown",
   "id": "f35bcfd2-fdc5-41ea-8639-06a26fa6682f",
   "metadata": {},
   "source": [
    "The tables below show the min and the max of each continous feature when a person has or has not a stroke. This is important when determining the valid ranges of the data and allow us to comfrim results."
   ]
  },
  {
   "cell_type": "code",
   "execution_count": 11,
   "id": "44bb7ef4-ba6c-4a3b-ad6b-f65754ae88eb",
   "metadata": {},
   "outputs": [
    {
     "data": {
      "text/html": [
       "<table class=\"dataframe\">\n",
       "<caption>A tibble: 1 × 6</caption>\n",
       "<thead>\n",
       "\t<tr><th scope=col>age_min</th><th scope=col>age_max</th><th scope=col>avg_glucose_level_min</th><th scope=col>avg_glucose_level_max</th><th scope=col>bmi_min</th><th scope=col>bmi_max</th></tr>\n",
       "\t<tr><th scope=col>&lt;dbl&gt;</th><th scope=col>&lt;dbl&gt;</th><th scope=col>&lt;dbl&gt;</th><th scope=col>&lt;dbl&gt;</th><th scope=col>&lt;dbl&gt;</th><th scope=col>&lt;dbl&gt;</th></tr>\n",
       "</thead>\n",
       "<tbody>\n",
       "\t<tr><td>14</td><td>82</td><td>56.11</td><td>263.32</td><td>16.9</td><td>48.9</td></tr>\n",
       "</tbody>\n",
       "</table>\n"
      ],
      "text/latex": [
       "A tibble: 1 × 6\n",
       "\\begin{tabular}{llllll}\n",
       " age\\_min & age\\_max & avg\\_glucose\\_level\\_min & avg\\_glucose\\_level\\_max & bmi\\_min & bmi\\_max\\\\\n",
       " <dbl> & <dbl> & <dbl> & <dbl> & <dbl> & <dbl>\\\\\n",
       "\\hline\n",
       "\t 14 & 82 & 56.11 & 263.32 & 16.9 & 48.9\\\\\n",
       "\\end{tabular}\n"
      ],
      "text/markdown": [
       "\n",
       "A tibble: 1 × 6\n",
       "\n",
       "| age_min &lt;dbl&gt; | age_max &lt;dbl&gt; | avg_glucose_level_min &lt;dbl&gt; | avg_glucose_level_max &lt;dbl&gt; | bmi_min &lt;dbl&gt; | bmi_max &lt;dbl&gt; |\n",
       "|---|---|---|---|---|---|\n",
       "| 14 | 82 | 56.11 | 263.32 | 16.9 | 48.9 |\n",
       "\n"
      ],
      "text/plain": [
       "  age_min age_max avg_glucose_level_min avg_glucose_level_max bmi_min bmi_max\n",
       "1 14      82      56.11                 263.32                16.9    48.9   "
      ]
     },
     "metadata": {},
     "output_type": "display_data"
    }
   ],
   "source": [
    "factors_with_stroke <- filter(stroke_train, stroke == 1)\n",
    "factors_without_stroke <- filter(stroke_train, stroke == 0)\n",
    "\n",
    "\n",
    "min_max <- list(\n",
    "  min = ~min(.x, na.rm = TRUE), \n",
    "  max = ~max(.x, na.rm = TRUE)\n",
    ")\n",
    "\n",
    "avg <- list(\n",
    "  avg = ~mean(.x, na.rm = TRUE)\n",
    ")\n",
    "\n",
    "\n",
    "factors_with_stroke |> summarise(across(where(is.numeric), min_max)) \n"
   ]
  },
  {
   "cell_type": "markdown",
   "id": "7c66b944-a33d-45cf-a1e8-aa5a0aa5e238",
   "metadata": {},
   "source": [
    "**Table 2.2** Ranges of factors for people who had a stroke\n",
    "\n",
    "    1) Age minimum: The youngest person recorded to have a stroke\n",
    "    2) Age maximum: The oldest person recored to have a stroke\n",
    "    3) Averge minimum glucose level: lowest glucose level of person who had a stroke recorded\n",
    "    4) Averge maximum glucose level : Highest glucose level of person who had a stroke recorded\n",
    "    5) Minimum BMI: lowest BMI recored for a person who had a stoke.\n",
    "    6) Maximum BMI: Highest BMI recored for a person who had a stoke.\n",
    " "
   ]
  },
  {
   "cell_type": "code",
   "execution_count": 12,
   "id": "6d35ec25-e7e7-40db-9c21-4a51b68bdb2d",
   "metadata": {},
   "outputs": [
    {
     "data": {
      "text/html": [
       "<table class=\"dataframe\">\n",
       "<caption>A tibble: 1 × 6</caption>\n",
       "<thead>\n",
       "\t<tr><th scope=col>age_min</th><th scope=col>age_max</th><th scope=col>avg_glucose_level_min</th><th scope=col>avg_glucose_level_max</th><th scope=col>bmi_min</th><th scope=col>bmi_max</th></tr>\n",
       "\t<tr><th scope=col>&lt;dbl&gt;</th><th scope=col>&lt;dbl&gt;</th><th scope=col>&lt;dbl&gt;</th><th scope=col>&lt;dbl&gt;</th><th scope=col>&lt;dbl&gt;</th><th scope=col>&lt;dbl&gt;</th></tr>\n",
       "</thead>\n",
       "<tbody>\n",
       "\t<tr><td>0.08</td><td>82</td><td>55.12</td><td>267.61</td><td>10.3</td><td>97.6</td></tr>\n",
       "</tbody>\n",
       "</table>\n"
      ],
      "text/latex": [
       "A tibble: 1 × 6\n",
       "\\begin{tabular}{llllll}\n",
       " age\\_min & age\\_max & avg\\_glucose\\_level\\_min & avg\\_glucose\\_level\\_max & bmi\\_min & bmi\\_max\\\\\n",
       " <dbl> & <dbl> & <dbl> & <dbl> & <dbl> & <dbl>\\\\\n",
       "\\hline\n",
       "\t 0.08 & 82 & 55.12 & 267.61 & 10.3 & 97.6\\\\\n",
       "\\end{tabular}\n"
      ],
      "text/markdown": [
       "\n",
       "A tibble: 1 × 6\n",
       "\n",
       "| age_min &lt;dbl&gt; | age_max &lt;dbl&gt; | avg_glucose_level_min &lt;dbl&gt; | avg_glucose_level_max &lt;dbl&gt; | bmi_min &lt;dbl&gt; | bmi_max &lt;dbl&gt; |\n",
       "|---|---|---|---|---|---|\n",
       "| 0.08 | 82 | 55.12 | 267.61 | 10.3 | 97.6 |\n",
       "\n"
      ],
      "text/plain": [
       "  age_min age_max avg_glucose_level_min avg_glucose_level_max bmi_min bmi_max\n",
       "1 0.08    82      55.12                 267.61                10.3    97.6   "
      ]
     },
     "metadata": {},
     "output_type": "display_data"
    }
   ],
   "source": [
    "factors_without_stroke |> summarise(across(where(is.numeric), min_max))"
   ]
  },
  {
   "cell_type": "markdown",
   "id": "6c032d3d-9468-43dc-9e8b-51dee671b1e1",
   "metadata": {},
   "source": [
    "**Table 2.3** Ranges of factors for people who didn't have a stroke\n",
    "\n",
    "    1) Age minimum: The youngest person recorded to not have a stroke\n",
    "    2) Age maximum: The oldest person recored to not have a stroke\n",
    "    3) Averge minimum glucose level: lowest glucose level of person who didn't have a stroke recorded\n",
    "    4) Averge maximum glucose level : Highest glucose level of person who didn't have a stroke recorded\n",
    "    5) Minimum BMI: lowest BMI recored for a person who didn't have a stoke.\n",
    "    6) Maximum BMI: Highest BMI recored for a person who didn't have a stoke."
   ]
  },
  {
   "cell_type": "markdown",
   "id": "2a0ed5e4-d5b0-4616-89ed-fb7a413d962c",
   "metadata": {},
   "source": [
    "The tables below show the average of each continous feature when people have or have not a stroke. This shows us what glucose level may indicate aa chance for stroke."
   ]
  },
  {
   "cell_type": "code",
   "execution_count": 13,
   "id": "09c723ed-bf78-49ec-8c16-2f34cadad0c3",
   "metadata": {},
   "outputs": [
    {
     "data": {
      "text/html": [
       "<table class=\"dataframe\">\n",
       "<caption>A tibble: 1 × 3</caption>\n",
       "<thead>\n",
       "\t<tr><th scope=col>age_avg</th><th scope=col>avg_glucose_level_avg</th><th scope=col>bmi_avg</th></tr>\n",
       "\t<tr><th scope=col>&lt;dbl&gt;</th><th scope=col>&lt;dbl&gt;</th><th scope=col>&lt;dbl&gt;</th></tr>\n",
       "</thead>\n",
       "<tbody>\n",
       "\t<tr><td>67.75</td><td>132.6676</td><td>30.34615</td></tr>\n",
       "</tbody>\n",
       "</table>\n"
      ],
      "text/latex": [
       "A tibble: 1 × 3\n",
       "\\begin{tabular}{lll}\n",
       " age\\_avg & avg\\_glucose\\_level\\_avg & bmi\\_avg\\\\\n",
       " <dbl> & <dbl> & <dbl>\\\\\n",
       "\\hline\n",
       "\t 67.75 & 132.6676 & 30.34615\\\\\n",
       "\\end{tabular}\n"
      ],
      "text/markdown": [
       "\n",
       "A tibble: 1 × 3\n",
       "\n",
       "| age_avg &lt;dbl&gt; | avg_glucose_level_avg &lt;dbl&gt; | bmi_avg &lt;dbl&gt; |\n",
       "|---|---|---|\n",
       "| 67.75 | 132.6676 | 30.34615 |\n",
       "\n"
      ],
      "text/plain": [
       "  age_avg avg_glucose_level_avg bmi_avg \n",
       "1 67.75   132.6676              30.34615"
      ]
     },
     "metadata": {},
     "output_type": "display_data"
    }
   ],
   "source": [
    "factors_with_stroke |> summarise(across(where(is.numeric), avg))\n"
   ]
  },
  {
   "cell_type": "markdown",
   "id": "132aea51-921c-4999-b4eb-33d2f9b04e4e",
   "metadata": {},
   "source": [
    "**Table 2.4** Averages of features of people who had a stroke\n",
    "\n",
    "    1) Average Age: Average age of all people who were recorded to have a stroke\n",
    "    2) Average Glucose level: Average glucose level of all people who were recorded to have a stroke\n",
    "    3) Average BMI: Average BMI of all people who were recorded to have a stroke"
   ]
  },
  {
   "cell_type": "code",
   "execution_count": 16,
   "id": "ed948feb-a809-4019-a5a8-3e86cde24717",
   "metadata": {},
   "outputs": [
    {
     "data": {
      "text/html": [
       "<table class=\"dataframe\">\n",
       "<caption>A tibble: 1 × 3</caption>\n",
       "<thead>\n",
       "\t<tr><th scope=col>age_avg</th><th scope=col>avg_glucose_level_avg</th><th scope=col>bmi_avg</th></tr>\n",
       "\t<tr><th scope=col>&lt;dbl&gt;</th><th scope=col>&lt;dbl&gt;</th><th scope=col>&lt;dbl&gt;</th></tr>\n",
       "</thead>\n",
       "<tbody>\n",
       "\t<tr><td>41.61872</td><td>103.2145</td><td>28.7486</td></tr>\n",
       "</tbody>\n",
       "</table>\n"
      ],
      "text/latex": [
       "A tibble: 1 × 3\n",
       "\\begin{tabular}{lll}\n",
       " age\\_avg & avg\\_glucose\\_level\\_avg & bmi\\_avg\\\\\n",
       " <dbl> & <dbl> & <dbl>\\\\\n",
       "\\hline\n",
       "\t 41.61872 & 103.2145 & 28.7486\\\\\n",
       "\\end{tabular}\n"
      ],
      "text/markdown": [
       "\n",
       "A tibble: 1 × 3\n",
       "\n",
       "| age_avg &lt;dbl&gt; | avg_glucose_level_avg &lt;dbl&gt; | bmi_avg &lt;dbl&gt; |\n",
       "|---|---|---|\n",
       "| 41.61872 | 103.2145 | 28.7486 |\n",
       "\n"
      ],
      "text/plain": [
       "  age_avg  avg_glucose_level_avg bmi_avg\n",
       "1 41.61872 103.2145              28.7486"
      ]
     },
     "metadata": {},
     "output_type": "display_data"
    }
   ],
   "source": [
    "factors_without_stroke |> summarise(across(where(is.numeric), avg))"
   ]
  },
  {
   "cell_type": "markdown",
   "id": "09371280-2ad5-46e4-b1a3-d6b8930c2c45",
   "metadata": {},
   "source": [
    "**Table 2.5** Averages of features of people who did not have a stroke\n",
    "\n",
    "    1) Average Age: Average age of all people who were recorded to not have a stroke\n",
    "    2) Average Glucose level: Average glucose level of all people who were recorded to not have a stroke\n",
    "    3) Average BMI: Average BMI of all people who were recorded to not have a stroke"
   ]
  },
  {
   "cell_type": "markdown",
   "id": "25d4a0e4-a15d-450a-a6c2-5c571fff14ec",
   "metadata": {},
   "source": [
    "The table below shows how many cells with missing data are present in each column. This is important as we need to exclude any examples which may have incomplete data"
   ]
  },
  {
   "cell_type": "code",
   "execution_count": 17,
   "id": "8db5ab06-00fc-4432-b1ec-b2a5a216dfb8",
   "metadata": {},
   "outputs": [
    {
     "data": {
      "text/html": [
       "<table class=\"dataframe\">\n",
       "<caption>A tibble: 1 × 6</caption>\n",
       "<thead>\n",
       "\t<tr><th scope=col>With stroke: Bmi</th><th scope=col>With stroke: Avg Glucose</th><th scope=col>With stroke: Age</th><th scope=col>Without stroke: Bmi</th><th scope=col>Without stroke: Avg Glucose</th><th scope=col>Without stroke: Age</th></tr>\n",
       "\t<tr><th scope=col>&lt;int&gt;</th><th scope=col>&lt;int&gt;</th><th scope=col>&lt;int&gt;</th><th scope=col>&lt;int&gt;</th><th scope=col>&lt;int&gt;</th><th scope=col>&lt;int&gt;</th></tr>\n",
       "</thead>\n",
       "<tbody>\n",
       "\t<tr><td>0</td><td>0</td><td>0</td><td>0</td><td>0</td><td>0</td></tr>\n",
       "</tbody>\n",
       "</table>\n"
      ],
      "text/latex": [
       "A tibble: 1 × 6\n",
       "\\begin{tabular}{llllll}\n",
       " With stroke: Bmi & With stroke: Avg Glucose & With stroke: Age & Without stroke: Bmi & Without stroke: Avg Glucose & Without stroke: Age\\\\\n",
       " <int> & <int> & <int> & <int> & <int> & <int>\\\\\n",
       "\\hline\n",
       "\t 0 & 0 & 0 & 0 & 0 & 0\\\\\n",
       "\\end{tabular}\n"
      ],
      "text/markdown": [
       "\n",
       "A tibble: 1 × 6\n",
       "\n",
       "| With stroke: Bmi &lt;int&gt; | With stroke: Avg Glucose &lt;int&gt; | With stroke: Age &lt;int&gt; | Without stroke: Bmi &lt;int&gt; | Without stroke: Avg Glucose &lt;int&gt; | Without stroke: Age &lt;int&gt; |\n",
       "|---|---|---|---|---|---|\n",
       "| 0 | 0 | 0 | 0 | 0 | 0 |\n",
       "\n"
      ],
      "text/plain": [
       "  With stroke: Bmi With stroke: Avg Glucose With stroke: Age\n",
       "1 0                0                        0               \n",
       "  Without stroke: Bmi Without stroke: Avg Glucose Without stroke: Age\n",
       "1 0                   0                           0                  "
      ]
     },
     "metadata": {},
     "output_type": "display_data"
    }
   ],
   "source": [
    "stroke_bmi <- sum(is.na(factors_with_stroke$bmi))\n",
    "stroke_avg_glucos <- sum(is.na(factors_with_stroke$avg_glucose_level))\n",
    "stroke_age <- sum(is.na(factors_with_stroke$age))\n",
    "no_stroke_bmi <- sum(is.na(factors_without_stroke$bmi))\n",
    "no_stroke_averge_glucose <- sum(is.na(factors_without_stroke$avg_glucose_level))\n",
    "no_stroke_age <- sum(is.na(factors_without_stroke$age))\n",
    "\n",
    "missing_data <- tibble(\"With stroke: Bmi\" = stroke_bmi, \"With stroke: Avg Glucose\" = stroke_avg_glucos, \"With stroke: Age\" = stroke_bmi, \n",
    "            \"Without stroke: Bmi\" = no_stroke_bmi, \"Without stroke: Avg Glucose\" = no_stroke_averge_glucose, \"Without stroke: Age\" = no_stroke_age)\n",
    "missing_data"
   ]
  },
  {
   "cell_type": "markdown",
   "id": "27ea7b7c-f9ac-49d5-84dc-70d1cfeb9770",
   "metadata": {},
   "source": [
    "**Table 2.6** Number of examples that have missing data in the associated feature\n",
    "\n",
    "    1) With Stroke: BMI: The number of examples that have missing data in this set\n",
    "    1) With Stroke: Averge Glucose: The number of examples that have missing data in this set\n",
    "    1) With Stroke Age: The number of examples that have missing data in this set\n",
    "    1) Without Stroke BMI: The number of examples that have missing data in this set\n",
    "    1) Without Stroke Averge Glucose: The number of examples that have missing data in this set\n",
    "    1) Without Stroke AGE: The number of examples that have missing data in this set"
   ]
  },
  {
   "cell_type": "markdown",
   "id": "f8394979-558c-4c57-a713-443d56952730",
   "metadata": {
    "tags": []
   },
   "source": [
    "### Preliminary Data Visualization"
   ]
  },
  {
   "cell_type": "code",
   "execution_count": null,
   "id": "2358f9ff-daca-44c1-9f84-95ee70dcd43f",
   "metadata": {},
   "outputs": [],
   "source": [
    "options(repr.plot.width = 20, repr.plot.height = 20)\n",
    "\n",
    "age_vs_glucose <- ggplot (stroke_train, aes(x=age, y=avg_glucose_level, color= stroke,shape= stroke))+\n",
    "                geom_point(aes(alpha = stroke,shape= stroke))+\n",
    "                scale_alpha_manual(values = c(0.1, 1))+\n",
    "                scale_color_manual(values = c(\"red\", \"blue\"))+\n",
    "                labs(x=\"Age\", y=\"Average Blood Glucose Level (mg/dL)\", color = \"Stroke History\",shape = \"Stroke History\")+\n",
    "                ggtitle(\"Age vs Average Blood Glucose Level\")+\n",
    "                theme(text = element_text(size = 15))\n",
    "options(repr.plot.width = 15, repr.plot.length = 20)\n",
    "\n",
    "age_vs_bmi <- ggplot (stroke_train, aes(x=age, y=bmi, color= stroke,shape=stroke))+\n",
    "                geom_point(aes(alpha = stroke,shape=stroke))+\n",
    "                scale_alpha_manual(values = c(0.1, 1))+\n",
    "                scale_color_manual(values = c(\"red\", \"blue\"))+\n",
    "                labs(x=\"Age\", y=\"Body Mass Index (kg/m^2)\", color = \"Stroke History\",shape = \"Stroke History\")+\n",
    "                ggtitle(\"Age vs Body Mass Index\")+\n",
    "                theme(text = element_text(size = 15))\n",
    "options(repr.plot.width = 15, repr.plot.length = 20)\n",
    "\n",
    "avg_glucose_vs_bmi <- ggplot (stroke_train, aes(x=avg_glucose_level, y=bmi, color= stroke,shape=stroke))+\n",
    "                geom_point(aes(alpha = stroke,shape=stroke))+\n",
    "                scale_alpha_manual(values = c(0.1, 1))+\n",
    "                scale_color_manual(values = c(\"red\", \"blue\"))+\n",
    "                labs(x=\"Average Blood Glucose Level (mg/dL)\", y=\"Body Mass Index (kg/m^2)\", color = \"Stroke History\",shape = \"Stroke History\")+\n",
    "                ggtitle(\"Average Blood Glucose Level vs Body Mass Index\")+\n",
    "                theme(text = element_text(size = 15))\n",
    "options(repr.plot.width = 15, repr.plot.length = 20)\n",
    "\n",
    "plot_grid(age_vs_glucose, age_vs_bmi, avg_glucose_vs_bmi, ncol = 1)"
   ]
  },
  {
   "cell_type": "markdown",
   "id": "b9a95bf5-96e2-4f47-8c97-7e11f0271477",
   "metadata": {},
   "source": [
    "**Graph Analyses:**\n",
    "\n",
    "**Age vs Average Blood Glucose Level** - Looking at the graph, we can see that there is a cluster of exmaples who experinced a stoke alongside a cluster of high blood glucose. There is another cluster where age is high as well but this to be expected. To have a cluster where there is also a cluster of high blood glucose means that there is a correlation between the two factors and can be related\n",
    "    \n",
    "**Age vs Body Mass Index** - Here we see a strong correlation between age and having a stroke, meaning the we can consider being at a older age brings a higher chance of a stroke\n",
    "\n",
    "**Average Blood Glucose Level vs Body Mass Index** - Now comparing BMI and glucose level we can see two localized clusters when Body index mass is low and glucose levels is in the extreme low or high, this can be looked at further later."
   ]
  },
  {
   "cell_type": "markdown",
   "id": "916775b3-c17b-4447-a9e3-aeb0f2d31e11",
   "metadata": {},
   "source": [
    "## Data Analysis"
   ]
  },
  {
   "cell_type": "markdown",
   "id": "7219f4cd-c7ac-40e9-b1b2-bc1934b75047",
   "metadata": {},
   "source": [
    "### Methods\n",
    "\n",
    "We use classification since we are more interested in predicting potential strokes rather than finding dependency relationship between stroke and other variables (regression). While the latter helps with finding out causes of stroke (and how strongly they contribute to stroke), classification provides a useful warning as it allows the patient to be more aware of their lifestyle and allows doctors to be more proactive in diagnosis and treatment.\n",
    "\n",
    "To build our model, we split our initial data so that 75% (seem to be the standard percentage) will be used in the training data and the rest for the test data. We also need to set a seed so that the code is reproducible. We will then build the model using the optimal K value found from tuning the number of nearest neighbors on the training data. (This has been done in the EDA)\n",
    "\n",
    "We are using K-nearest neighbours classification since we are trying to predict and categorize an example into two groups, having a stroke and not having a stroke. KNN works best with categeorical data and clustering (Campbell et al., 2022). As seen with the peliminary data analysis we can see our data tends to cluster so this would be an apporiate model to use. Then once this is trained, we can obtain a new example and predict weather or not this person will have a stroke.\n",
    "\n",
    "Three columns from the dataset will be used in this study: age, BMI, and average blood glucose level. These three variables are chosen not only because they are three important factors that contribute to an individual’s risk of developing stroke, but their continuous property makes it easier to establish the correlation with having a stroke. To visualize the relationship between the three factors and with stroke, we will produce three scatter plots: age vs. BMI, age vs. average blood glucose level, and finally BMI vs. average blood glucose level. All three plots will have datapoints color labeled to show the history of stroke (have had stroke or not).\n",
    "\n",
    "We also note that our data set is heavily unbalanced, in which the number of observations in the majority class (non-stroke) is roughly 20 times bigger compared to the number of observations in the minority (stroke). \n",
    "\n",
    "We are downsampling our data because since there are so many examples of people who have not experienced a stroke. This results in the model having tendency to misclassify people having strokes to be in non-stroke group. This drowns out the intricate details we are trying to find that may indicate one person is likely to have a stroke. We have learned that picking a random sample of a population is just as effective to use data of the whole population so we are using this knowlege here, by using equal parts of the data which uses exmaples who have and haven't had a stroke."
   ]
  },
  {
   "cell_type": "code",
   "execution_count": null,
   "id": "36247372-4215-4fa3-9d10-174a7432357c",
   "metadata": {},
   "outputs": [],
   "source": [
    "stroke_count <- stroke_data_final |>\n",
    "    count(stroke)\n",
    "stroke_count"
   ]
  },
  {
   "cell_type": "markdown",
   "id": "7183ecab-9e71-4942-baf4-439061ce6a46",
   "metadata": {},
   "source": [
    "In medical scenarios, these situations are generally expected. Since the data set is unbalanced, this would mean a that new observations will be too heavily influenced by the majority class (Dev et al., 2022). Thus, rebalancing the data is necessary, and as Dev et al. has suggested, downsampling is recommended as it helps reduce this adverse effect and, in fact, is used as part of the authors' experiment in classifying strokes. Downsampling is also well-known around nearest neighbors algorithm (Lee et al., 2022). Therefore, we will apply downsampling on the current data set, as it has been shown to work effectively.'step_downsample' allows us to do so, as we specify the 'under_ratio' specifying the ratio $\\frac{\\text{#majority}}{\\text{#minority}}$. Setting it to be 1.85 means that we will be cutting down majority class data until the number of majority class data is $1.85$ times the number of minority class data."
   ]
  },
  {
   "cell_type": "code",
   "execution_count": null,
   "id": "d0d69945-ec03-4dce-b812-be462c1c5d2c",
   "metadata": {},
   "outputs": [],
   "source": [
    "# Set the seed \n",
    "set.seed(1)\n",
    "\n",
    "#Training and Testing (done in EDA)\n",
    "\n",
    "# # Rebalance the traning data (downsampling)\n",
    "up_rec <- recipe(stroke ~ ., data = stroke_train) |>\n",
    "    step_downsample(stroke, under_ratio = 1.85) |>\n",
    "    prep()\n",
    "\n",
    "stroke_train_balance <- up_rec |>\n",
    "    bake(new_data = NULL)\n",
    "\n",
    "\n",
    "# # recipe // spec // workflow \n",
    "stroke_recipe<- recipe(stroke ~. , data = stroke_train_balance) |>\n",
    "    step_scale(all_predictors()) |>\n",
    "    step_center(all_predictors())\n",
    "\n",
    "knn_spec <- nearest_neighbor(weight_func = \"rectangular\", \n",
    "                             neighbors = tune()) |>\n",
    "                              set_engine(\"kknn\") |>\n",
    "                              set_mode(\"classification\")\n",
    "\n",
    "k_vals <- tibble(neighbors = seq(from = 1, to = 100))\n",
    "stroke_vfold <- vfold_cv(stroke_train_balance, v = 10, strata = stroke)\n",
    "\n",
    "knn_results <- workflow() |>\n",
    "    add_recipe(stroke_recipe) |>\n",
    "    add_model(knn_spec) |>\n",
    "    tune_grid(resamples = stroke_vfold, grid = k_vals) |>\n",
    "    collect_metrics() \n",
    "knn_results\n",
    "\n",
    "accuracies <- knn_results |>\n",
    "    filter(.metric == \"accuracy\")\n",
    "accuracies"
   ]
  },
  {
   "cell_type": "code",
   "execution_count": null,
   "id": "088cf44d-e17a-4248-a54a-057dfa48074f",
   "metadata": {},
   "outputs": [],
   "source": [
    "# K graph\n",
    "\n",
    "options(repr.plot.height = 10, repr.plot.width = 15)\n",
    "accuracy_vs_k <- ggplot(accuracies, aes(x = neighbors, y = mean)) +\n",
    "  geom_point() +\n",
    "  geom_line() +\n",
    "  labs(x = \"Neighbors\", y = \"Accuracy Estimate\") + \n",
    "  theme(text = element_text(size = 12)) +\n",
    "  ggtitle(\"Plot of estimated accuracy versus the number of neighbors\")\n",
    "accuracy_vs_k\n"
   ]
  },
  {
   "cell_type": "code",
   "execution_count": null,
   "id": "b68baa7b-ce6f-4d86-9a7a-bdaf6fe9e80c",
   "metadata": {},
   "outputs": [],
   "source": [
    "# Choose the best K\n",
    "accuracies<- accuracies|>arrange(desc(mean)) |> slice(1)\n",
    "accuracies "
   ]
  },
  {
   "cell_type": "code",
   "execution_count": null,
   "id": "f789a70a-6f65-48c3-8b7a-cd0666d4079a",
   "metadata": {},
   "outputs": [],
   "source": [
    "# Build the final model\n",
    "set.seed(1)\n",
    "k_min <- accuracies|>select(neighbors) |> pull()\n",
    "knn_spec_final <- nearest_neighbor(weight_func = \"rectangular\", neighbors = k_min) |>\n",
    "       set_engine(\"kknn\") |>\n",
    "       set_mode(\"classification\")\n",
    "\n",
    "stroke_fit <- workflow() |>\n",
    "       add_recipe(stroke_recipe) |>\n",
    "       add_model(knn_spec_final) |>\n",
    "       fit(data = stroke_train_balance)"
   ]
  },
  {
   "cell_type": "code",
   "execution_count": null,
   "id": "71a5f75a-4169-47fe-a0f0-e85a0db42c7d",
   "metadata": {},
   "outputs": [],
   "source": [
    "# Get the accuracy\n",
    "set.seed(1)\n",
    "stroke_test_predictions <- predict(stroke_fit , stroke_test) |>\n",
    "       bind_cols(stroke_test) \n",
    "stroke_test_predictions\n",
    "\n",
    "stroke_accuracy <- stroke_test_predictions |>\n",
    "       metrics(truth = stroke, estimate = .pred_class) |> filter(.metric == \"accuracy\")\n",
    "stroke_accuracy"
   ]
  },
  {
   "cell_type": "code",
   "execution_count": null,
   "id": "e691572b-9002-4550-a9c9-4dc00b444660",
   "metadata": {},
   "outputs": [],
   "source": [
    "set.seed(1)\n",
    "\n",
    "stroke_mat <- stroke_test_predictions |> \n",
    "       conf_mat(truth = stroke, estimate = .pred_class)\n",
    "\n",
    "stroke_mat"
   ]
  },
  {
   "cell_type": "markdown",
   "id": "eafbbb14-68d5-4fc7-b140-3bc0d1195787",
   "metadata": {},
   "source": [
    "### Discussion\n",
    "\n",
    "#### Summary\n",
    "\n",
    "Our model shows that that peak accuracy is obtained at $k = 57$ (using 57 nearest neighbors for classification). The model obtains roughly 77% accuracy when predicting strokes from new observations, which come from our split data for testing. \n",
    "\n",
    "Through experimentation with various downsampling ratios, a ratio of 1.85 yielded superior accuracy compared to a ratio of 1 to 5. \n",
    "To address the imbalanced nature of the dataset and its distinct characteristics, the unsampling method was selected as a means of dataset balancing and computational cost reduction. so our balance choose $under \\ ratio = 1.85$\n",
    "\n",
    "#### Expected outcomes\n",
    "\n",
    "The model's accuracy turns out to be smaller than expected, around 77% when tested on new observations. This does not necessarily mean that the model is bad, however. According to Lee et al., in most cases, classifying a majority class observation as minority (in this case, false positive) are generally much better than the opposite (false negatives). It makes sense in our case why we want to avoid misclassifying as non-stroke, since doing so might put the patient and medical team in a passive state when there is a lurking danger of a stroke, and also there are no serious consequences if we classify a healthy person as stroke-likely. The confusion matrix shows this pattern, as it can detect a high number of stroke accurately, 37 out of 53 cases (even though it can be improved) and has a lot of false positives. \n",
    "\n",
    "We don't consider k values beyond 101 to avoid overfitting. While 57 is a quite big k value, we argue it's within reasonable range.\n",
    "\n",
    "#### Impact\n",
    "\n",
    "The impact of the findings is directly linked to the main question of this report. With this classification model, we can now accurately predict whether a person is likely to develop a stroke or not and look into whether a part of their lifestyle is significantly contributing to this probability. This means that the medical team can be proactive in their treatments if such unfortunate events occur, and for the patient, promote a healthy lifestyle change.\n",
    "\n",
    "#### Future questions\n",
    "\n",
    "Our model is based on downsampling. According to Lee et al., however, a disadvantage of downsampling method is that a loss of information is gauranteed since we are cutting down the data from the majority class, and if we're unlucky we may lose very useful information. Another approach to the problem is to instead use the upsampling method to fix the unbalanced data, although there is a risk of unnecessary duplication. Instead of cutting down or increase data size, a cost-sensitive learning approach (adding weights to each data point) can be rather effective (Lee et al., 2022).\n",
    "\n",
    "By developing this stroke predictor, we hope to use a set of conditions that could potentially contribute to the development of strokes to predict whether an individual will develop their first stroke in the future. We will also examine the accuracy of this predictor for any future improvements. In a real-life setting, this predictor can be used for stroke prevention among high-risk patients and to promote lifestyle changes to reduce the risk of stroke. As this predictor only predicts the first stroke of an individual, while one in four stroke patients in the US (CDC, 2022) experiences a second stroke sometime in their life (Tsao et al., 2022), future work can be done to predict the chance of having multiple strokes based on a more extensive range of health conditions and it could raise new inquiries regarding additional risk factors that could improve the model.\n",
    "\n",
    "\n",
    "## References \n",
    "\n",
    "Tsao, C. W., Aday, A. W., Almarzooq, Z. I., Alonso, A., Beaton, A. Z., Bittencourt, M. S., Boehme, A. K., Buxton, A. E., Carson, A. P., Commodore-Mensah, Y., Elkind, M. S. V., Evenson, K. R., Eze-Nliam, C., Ferguson, J. F., Generoso, G., Ho, J. E., Kalani, R., Khan, S. S., Kissela, B. M., & Knutson, K. L. (2022). Heart Disease and Stroke Statistics—2022 Update: A Report From the American Heart Association. Circulation, 145(8). https://doi.org/10.1161/cir.0000000000001052\n",
    "\n",
    "Campbell, T., Lee, M., & Timbers, T. (2022). Data Science: A First Introduction. CRC Press. https://datasciencebook.ca/index.html\n",
    "\n",
    "Lee, W., & Seo, K. (2022). Downsampling for Binary Classification with a Highly Imbalanced Dataset Using Active Learning. Big Data Research, 28, 100314. https://doi.org/10.1016/j.bdr.2022.100314\n",
    "\n",
    "Dev, S., Wang, H., Nwosu, C. S., Jain, N., Veeravalli, B., & John, D. (2022). A predictive analytics approach for stroke prediction using machine learning and neural networks. Healthcare Analytics, 100032. https://doi.org/10.1016/j.health.2022.100032"
   ]
  },
  {
   "cell_type": "code",
   "execution_count": null,
   "id": "f39730c6-c1b1-48c8-95fb-925f91960ebe",
   "metadata": {},
   "outputs": [],
   "source": []
  }
 ],
 "metadata": {
  "kernelspec": {
   "display_name": "R",
   "language": "R",
   "name": "ir"
  },
  "language_info": {
   "codemirror_mode": "r",
   "file_extension": ".r",
   "mimetype": "text/x-r-source",
   "name": "R",
   "pygments_lexer": "r",
   "version": "4.1.3"
  }
 },
 "nbformat": 4,
 "nbformat_minor": 5
}
