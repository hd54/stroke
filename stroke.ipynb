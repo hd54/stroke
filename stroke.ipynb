{
 "cells": [
  {
   "cell_type": "markdown",
   "id": "d29fc0fc-8fdb-4aad-98bb-bd1c761ef9d8",
   "metadata": {},
   "source": [
    "# Stroke Predictor - DSCI 100 Group Project Proposal\n",
    "\n",
    "## Introduction\n",
    "\n",
    "The chances of getting a stroke can often be predicted by certain factors such as glucose level and smoking status. Being able to tell a person if they are categorized to have a higher chance of stroke gives a person a chance to reduce said factors in hopes of preventing a stroke. The question and purpose of our project is to classify a large set of data that gives the factors that lead to stroke and then, when given a new example, predict if the person is likely to have a stroke.\n",
    "The data set is provided on Kaggle (Stroke Prediction Dataset | Kaggle), which lists various background clinical features from the patients, such as disease history and age, all potentially useful in predicting a stroke. "
   ]
  },
  {
   "cell_type": "markdown",
   "id": "ebb9ca03-f650-4e93-bbd5-e36756eaec87",
   "metadata": {},
   "source": [
    "## Preliminary exploratory data analysis"
   ]
  },
  {
   "cell_type": "code",
   "execution_count": null,
   "id": "8eba81b9-c933-4c6c-8563-34d6d3a1e441",
   "metadata": {},
   "outputs": [],
   "source": [
    "### LOADING LIBRARY\n",
    "\n",
    "### Run this cell before continuing.\n",
    "library(plyr)\n",
    "library(dplyr)\n",
    "library(tidyverse)\n",
    "library(repr)\n",
    "library(tidymodels)\n",
    "library(cowplot)\n",
    "options(repr.matrix.max.rows = 6)\n"
   ]
  },
  {
   "cell_type": "markdown",
   "id": "3b62c3ec-3d72-41d9-a63b-4118b6af3916",
   "metadata": {},
   "source": [
    "### Read dataset from web into R"
   ]
  },
  {
   "cell_type": "code",
   "execution_count": null,
   "id": "60c0036b-12fb-4cd3-bc45-b0c67d6f59de",
   "metadata": {},
   "outputs": [],
   "source": [
    "url <- \"https://gist.githubusercontent.com/aishwarya8615/d2107f828d3f904839cbcb7eaa85bd04/raw/cec0340503d82d270821e03254993b6dede60afb/healthcare-dataset-stroke-data.csv\"\n",
    "stroke_data <- read_csv(url)\n",
    "\n",
    "## modify variable types\n",
    "stroke_data_final <- stroke_data |>\n",
    "                    mutate (stroke = as.factor(stroke),\n",
    "                           bmi = as.numeric(bmi))\n",
    "stroke_data_final"
   ]
  },
  {
   "cell_type": "markdown",
   "id": "5314eebd-748c-48a5-a3d9-0572c28ace63",
   "metadata": {},
   "source": [
    "To view what correlation various factors have on developing stroke, we will plot three scatter graphs: age vs. average glucose level, age vs. BMI, and BMI vs. average glucose level. These three variables were chosen because they were continuous measurements and are closely related to the develpopment of stroke. "
   ]
  },
  {
   "cell_type": "markdown",
   "id": "224a8ead-b98d-45aa-abed-cac419bc45b4",
   "metadata": {},
   "source": [
    "### Splitting the dataset into training and testing datasets based on stroke history"
   ]
  },
  {
   "cell_type": "code",
   "execution_count": null,
   "id": "1463a798-341e-49ad-a108-bb7f8b845a59",
   "metadata": {},
   "outputs": [],
   "source": [
    "set.seed(1)\n",
    "\n",
    "stroke_split <- initial_split(stroke_data_final, prop = 0.75, strata = stroke)\n",
    "stroke_train <- training(stroke_split)\n",
    "stroke_test <- testing(stroke_split) "
   ]
  },
  {
   "cell_type": "markdown",
   "id": "5c87cd70-9037-429e-8425-62d56158a7d7",
   "metadata": {},
   "source": [
    "### Summary"
   ]
  },
  {
   "cell_type": "markdown",
   "id": "f35bcfd2-fdc5-41ea-8639-06a26fa6682f",
   "metadata": {},
   "source": [
    "The tables below show the min and the max of each continous feature when a person has or has not a stroke"
   ]
  },
  {
   "cell_type": "code",
   "execution_count": null,
   "id": "44bb7ef4-ba6c-4a3b-ad6b-f65754ae88eb",
   "metadata": {},
   "outputs": [],
   "source": [
    "continous_factors <- select(stroke_train, bmi,avg_glucose_level,age,stroke)\n",
    "\n",
    "factors_with_stroke <- filter(continous_factors, stroke == 1)\n",
    "factors_without_stroke <- filter(continous_factors, stroke == 0)\n",
    "\n",
    "\n",
    "min_max <- list(\n",
    "  min = ~min(.x, na.rm = TRUE), \n",
    "  max = ~max(.x, na.rm = TRUE)\n",
    ")\n",
    "\n",
    "avg <- list(\n",
    "  avg = ~mean(.x, na.rm = TRUE)\n",
    ")\n",
    "\n",
    "\n",
    "\n",
    "factors_with_stroke |> summarise(across(where(is.numeric), min_max))\n",
    "factors_without_stroke |> summarise(across(where(is.numeric), min_max))\n",
    "\n",
    "\n"
   ]
  },
  {
   "cell_type": "markdown",
   "id": "2a0ed5e4-d5b0-4616-89ed-fb7a413d962c",
   "metadata": {},
   "source": [
    "The tables below show the average of each continous feature when people have or have not a stroke"
   ]
  },
  {
   "cell_type": "code",
   "execution_count": null,
   "id": "09c723ed-bf78-49ec-8c16-2f34cadad0c3",
   "metadata": {},
   "outputs": [],
   "source": [
    "factors_with_stroke |> summarise(across(where(is.numeric), avg))\n",
    "factors_without_stroke |> summarise(across(where(is.numeric), avg))"
   ]
  },
  {
   "cell_type": "markdown",
   "id": "25d4a0e4-a15d-450a-a6c2-5c571fff14ec",
   "metadata": {},
   "source": [
    "The table below shows how many cells with missing data are present in each column. This is imoprtant as we need to exclude any examples which may have incomplete data"
   ]
  },
  {
   "cell_type": "code",
   "execution_count": null,
   "id": "8db5ab06-00fc-4432-b1ec-b2a5a216dfb8",
   "metadata": {},
   "outputs": [],
   "source": [
    "stroke_bmi <- sum(is.na(factors_with_stroke$bmi))\n",
    "stroke_avg_glucos <- sum(is.na(factors_with_stroke$avg_glucose_level))\n",
    "stroke_age <- sum(is.na(factors_with_stroke$age))\n",
    "no_stroke_bmi <- sum(is.na(factors_without_stroke$bmi))\n",
    "no_stroke_averge_glucose <- sum(is.na(factors_without_stroke$avg_glucose_level))\n",
    "no_stroke_age <- sum(is.na(factors_without_stroke$age))\n",
    "\n",
    "missing_data <- tibble(\"With stroke: Bmi\" = stroke_bmi, \"With stroke: Avg Glucose\" = stroke_avg_glucos, \"With stroke: Age\" = stroke_bmi, \n",
    "            \"Without stroke: Bmi\" = no_stroke_bmi, \"Without stroke: Avg Glucose\" = no_stroke_averge_glucose, \"Without stroke: Age\" = no_stroke_age)\n",
    "missing_data"
   ]
  },
  {
   "cell_type": "markdown",
   "id": "f8394979-558c-4c57-a713-443d56952730",
   "metadata": {},
   "source": [
    "### Data Visualization"
   ]
  },
  {
   "cell_type": "code",
   "execution_count": null,
   "id": "2358f9ff-daca-44c1-9f84-95ee70dcd43f",
   "metadata": {},
   "outputs": [],
   "source": [
    "options(repr.plot.width = 20, repr.plot.height = 20)\n",
    "\n",
    "age_vs_glucose <- ggplot (stroke_train, aes(x=age, y=avg_glucose_level, color= stroke))+\n",
    "                geom_point(aes(alpha = stroke))+\n",
    "                scale_alpha_manual(values = c(0.1, 1))+\n",
    "                scale_color_manual(values = c(\"red\", \"blue\"))+\n",
    "                labs(x=\"Age\", y=\"Average Blood Glucose Level (mg/dL)\", color = \"Stroke History\")+\n",
    "                theme(text = element_text(size = 15))\n",
    "options(repr.plot.width = 15, repr.plot.length = 20)\n",
    "\n",
    "age_vs_bmi <- ggplot (stroke_train, aes(x=age, y=bmi, color= stroke))+\n",
    "                geom_point(aes(alpha = stroke))+\n",
    "                scale_alpha_manual(values = c(0.1, 1))+\n",
    "                scale_color_manual(values = c(\"red\", \"blue\"))+\n",
    "                labs(x=\"Age\", y=\"body Mass Index (kg/m^2)\", color = \"Stroke History\")+\n",
    "                theme(text = element_text(size = 15))\n",
    "options(repr.plot.width = 15, repr.plot.length = 20)\n",
    "\n",
    "avg_glucose_vs_bmi <- ggplot (stroke_train, aes(x=avg_glucose_level, y=bmi, color= stroke))+\n",
    "                geom_point(aes(alpha = stroke))+\n",
    "                scale_alpha_manual(values = c(0.1, 1))+\n",
    "                scale_color_manual(values = c(\"red\", \"blue\"))+\n",
    "                labs(x=\"Average Blood Glucose Level (mg/dL)\", y=\"body Mass Index (kg/m^2)\", color = \"Stroke History\")+\n",
    "                theme(text = element_text(size = 15))\n",
    "options(repr.plot.width = 15, repr.plot.length = 20)\n",
    "\n",
    "plot_grid(age_vs_glucose, age_vs_bmi, avg_glucose_vs_bmi, ncol = 1)"
   ]
  },
  {
   "cell_type": "markdown",
   "id": "7feb7de6-7d90-4738-b59c-f418eebe8bcd",
   "metadata": {},
   "source": [
    "## Methods\n",
    "\n",
    "We use classification since we are more interested in predicting potential strokes rather than finding dependency relationship between stroke and other variables (regression). While the latter helps with finding out causes of stroke (and how strongly they contribute to stroke), classification provides useful warning as it allows the patient to be more aware of their lifestyle and doctors more proactive in diagnosis and treatment.\n",
    "\n",
    "To build our model, we split our initial data so that 75% will be used in the training data and the rest for the test data. We also need to set a seed so that the code is reproducible. We will then build the model using the optimal K value found from applying cross-validation on the training data.\n",
    "\n",
    "Three columns from the dataset will be used in this study: age, BMI, and average blood glucose level. These three variables are chosen not only because they are three important factors that contribute to an individual’s risk of developing stroke, but their continuous property makes it easier to establish the correlation with having a stroke. To visualize the relationship between the three factors and with stroke, we will produce three scatter plots: age vs. BMI, age vs. average blood glucose level, and finally BMI vs. average blood glucose level. All three plots will have datapoints color labeled to show the history of stroke (have had stroke or not).\n",
    "\n",
    "## Expected outcomes and significance\n",
    "\n",
    "We expect the model to find more potential stroke cases among elderly people compared to young people. We expect BMI and age to also contribute to risks of stroke, albeit not as strong, but this is a regression problem that is not within our scope.\n",
    "\n",
    "By developing this stroke predictor, we hope to use a set of conditions that could potentially contribute to the development of strokes to predict whether an individual will develop their first stroke in the future. We will also examine the accuracy of this predictor for any future improvements. In a real-life setting, this predictor can be used for stroke prevention among high-risk patients and to promote lifestyle changes to reduce the risk of stroke. As this predictor only predicts the first stroke of an individual, while one in four stroke patients in the US (CDC, 2022) experiences a second stroke sometime in their life, future work can be done to predict the chance of having multiple strokes based on a more extensive range of health conditions and it could raise new inquiries regarding additional risk factors that could improve the model.\n",
    "\n",
    "**References:** \n",
    "https://www.cdc.gov/stroke/facts.htm#:~:text=Stroke%20statistics,-In%202020%2C%201&text=Every%20year%2C%20more%20than%20795%2C000,are%20first%20or%20new%20strokes.&text=About%20185%2C000%20strokes%E2%80%94nearly%201,have%20had%20a%20previous%20stroke.&text=About%2087%25%20of%20all%20strokes,to%20the%20brain%20is%20blocked.\n"
   ]
  }
 ],
 "metadata": {
  "kernelspec": {
   "display_name": "R",
   "language": "R",
   "name": "ir"
  },
  "language_info": {
   "codemirror_mode": "r",
   "file_extension": ".r",
   "mimetype": "text/x-r-source",
   "name": "R",
   "pygments_lexer": "r",
   "version": "4.1.3"
  }
 },
 "nbformat": 4,
 "nbformat_minor": 5
}
