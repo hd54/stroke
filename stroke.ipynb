{
 "cells": [
  {
   "cell_type": "markdown",
   "id": "d29fc0fc-8fdb-4aad-98bb-bd1c761ef9d8",
   "metadata": {},
   "source": [
    "# Stroke Predictor - DSCI 100 Group Project Proposal\n",
    "\n",
    "## Introduction\n",
    "\n",
    "The chances of getting a stroke can often be predicted by certain factors such as glucose level and smoking status. Being able to tell a person if they are categorized to have a higher chance of stroke gives a person a chance to reduce said factors in hopes of preventing a stroke. The question and purpose of our project is to classify a large set of data that gives the factors that lead to stroke and then, when given a new example, predict if the person is likely to have a stroke.\n",
    "The data set is provided on Kaggle (Stroke Prediction Dataset | Kaggle), which lists various background clinical features from the patients, such as disease history and age, all potentially useful in predicting a stroke. "
   ]
  },
  {
   "cell_type": "markdown",
   "id": "ebb9ca03-f650-4e93-bbd5-e36756eaec87",
   "metadata": {},
   "source": [
    "## Preliminary exploratory data analysis"
   ]
  },
  {
   "cell_type": "code",
   "execution_count": 10,
   "id": "8eba81b9-c933-4c6c-8563-34d6d3a1e441",
   "metadata": {},
   "outputs": [],
   "source": [
    "### LOADING LIBRARY\n",
    "\n",
    "### Run this cell before continuing.\n",
    "library(plyr)\n",
    "library(dplyr)\n",
    "library(tidyverse)\n",
    "library(repr)\n",
    "library(tidymodels)\n",
    "library(cowplot)\n",
    "options(repr.matrix.max.rows = 6)\n"
   ]
  },
  {
   "cell_type": "markdown",
   "id": "3b62c3ec-3d72-41d9-a63b-4118b6af3916",
   "metadata": {},
   "source": [
    "### Read dataset from web into R"
   ]
  },
  {
   "cell_type": "code",
   "execution_count": 3,
   "id": "60c0036b-12fb-4cd3-bc45-b0c67d6f59de",
   "metadata": {},
   "outputs": [
    {
     "name": "stderr",
     "output_type": "stream",
     "text": [
      "\u001b[1mRows: \u001b[22m\u001b[34m5110\u001b[39m \u001b[1mColumns: \u001b[22m\u001b[34m12\u001b[39m\n",
      "\u001b[36m──\u001b[39m \u001b[1mColumn specification\u001b[22m \u001b[36m────────────────────────────────────────────────────────\u001b[39m\n",
      "\u001b[1mDelimiter:\u001b[22m \",\"\n",
      "\u001b[31mchr\u001b[39m (6): gender, ever_married, work_type, Residence_type, bmi, smoking_status\n",
      "\u001b[32mdbl\u001b[39m (6): id, age, hypertension, heart_disease, avg_glucose_level, stroke\n",
      "\n",
      "\u001b[36mℹ\u001b[39m Use `spec()` to retrieve the full column specification for this data.\n",
      "\u001b[36mℹ\u001b[39m Specify the column types or set `show_col_types = FALSE` to quiet this message.\n",
      "Warning message in mask$eval_all_mutate(quo):\n",
      "“NAs introduced by coercion”\n"
     ]
    },
    {
     "data": {
      "text/html": [
       "<table class=\"dataframe\">\n",
       "<caption>A tibble: 5110 × 12</caption>\n",
       "<thead>\n",
       "\t<tr><th scope=col>id</th><th scope=col>gender</th><th scope=col>age</th><th scope=col>hypertension</th><th scope=col>heart_disease</th><th scope=col>ever_married</th><th scope=col>work_type</th><th scope=col>Residence_type</th><th scope=col>avg_glucose_level</th><th scope=col>bmi</th><th scope=col>smoking_status</th><th scope=col>stroke</th></tr>\n",
       "\t<tr><th scope=col>&lt;dbl&gt;</th><th scope=col>&lt;chr&gt;</th><th scope=col>&lt;dbl&gt;</th><th scope=col>&lt;dbl&gt;</th><th scope=col>&lt;dbl&gt;</th><th scope=col>&lt;chr&gt;</th><th scope=col>&lt;chr&gt;</th><th scope=col>&lt;chr&gt;</th><th scope=col>&lt;dbl&gt;</th><th scope=col>&lt;dbl&gt;</th><th scope=col>&lt;chr&gt;</th><th scope=col>&lt;fct&gt;</th></tr>\n",
       "</thead>\n",
       "<tbody>\n",
       "\t<tr><td> 9046</td><td>Male  </td><td>67</td><td>0</td><td>1</td><td>Yes</td><td>Private      </td><td>Urban</td><td>228.69</td><td>36.6</td><td>formerly smoked</td><td>1</td></tr>\n",
       "\t<tr><td>51676</td><td>Female</td><td>61</td><td>0</td><td>0</td><td>Yes</td><td>Self-employed</td><td>Rural</td><td>202.21</td><td>  NA</td><td>never smoked   </td><td>1</td></tr>\n",
       "\t<tr><td>31112</td><td>Male  </td><td>80</td><td>0</td><td>1</td><td>Yes</td><td>Private      </td><td>Rural</td><td>105.92</td><td>32.5</td><td>never smoked   </td><td>1</td></tr>\n",
       "\t<tr><td>⋮</td><td>⋮</td><td>⋮</td><td>⋮</td><td>⋮</td><td>⋮</td><td>⋮</td><td>⋮</td><td>⋮</td><td>⋮</td><td>⋮</td><td>⋮</td></tr>\n",
       "\t<tr><td>19723</td><td>Female</td><td>35</td><td>0</td><td>0</td><td>Yes</td><td>Self-employed</td><td>Rural</td><td> 82.99</td><td>30.6</td><td>never smoked   </td><td>0</td></tr>\n",
       "\t<tr><td>37544</td><td>Male  </td><td>51</td><td>0</td><td>0</td><td>Yes</td><td>Private      </td><td>Rural</td><td>166.29</td><td>25.6</td><td>formerly smoked</td><td>0</td></tr>\n",
       "\t<tr><td>44679</td><td>Female</td><td>44</td><td>0</td><td>0</td><td>Yes</td><td>Govt_job     </td><td>Urban</td><td> 85.28</td><td>26.2</td><td>Unknown        </td><td>0</td></tr>\n",
       "</tbody>\n",
       "</table>\n"
      ],
      "text/latex": [
       "A tibble: 5110 × 12\n",
       "\\begin{tabular}{llllllllllll}\n",
       " id & gender & age & hypertension & heart\\_disease & ever\\_married & work\\_type & Residence\\_type & avg\\_glucose\\_level & bmi & smoking\\_status & stroke\\\\\n",
       " <dbl> & <chr> & <dbl> & <dbl> & <dbl> & <chr> & <chr> & <chr> & <dbl> & <dbl> & <chr> & <fct>\\\\\n",
       "\\hline\n",
       "\t  9046 & Male   & 67 & 0 & 1 & Yes & Private       & Urban & 228.69 & 36.6 & formerly smoked & 1\\\\\n",
       "\t 51676 & Female & 61 & 0 & 0 & Yes & Self-employed & Rural & 202.21 &   NA & never smoked    & 1\\\\\n",
       "\t 31112 & Male   & 80 & 0 & 1 & Yes & Private       & Rural & 105.92 & 32.5 & never smoked    & 1\\\\\n",
       "\t ⋮ & ⋮ & ⋮ & ⋮ & ⋮ & ⋮ & ⋮ & ⋮ & ⋮ & ⋮ & ⋮ & ⋮\\\\\n",
       "\t 19723 & Female & 35 & 0 & 0 & Yes & Self-employed & Rural &  82.99 & 30.6 & never smoked    & 0\\\\\n",
       "\t 37544 & Male   & 51 & 0 & 0 & Yes & Private       & Rural & 166.29 & 25.6 & formerly smoked & 0\\\\\n",
       "\t 44679 & Female & 44 & 0 & 0 & Yes & Govt\\_job      & Urban &  85.28 & 26.2 & Unknown         & 0\\\\\n",
       "\\end{tabular}\n"
      ],
      "text/markdown": [
       "\n",
       "A tibble: 5110 × 12\n",
       "\n",
       "| id &lt;dbl&gt; | gender &lt;chr&gt; | age &lt;dbl&gt; | hypertension &lt;dbl&gt; | heart_disease &lt;dbl&gt; | ever_married &lt;chr&gt; | work_type &lt;chr&gt; | Residence_type &lt;chr&gt; | avg_glucose_level &lt;dbl&gt; | bmi &lt;dbl&gt; | smoking_status &lt;chr&gt; | stroke &lt;fct&gt; |\n",
       "|---|---|---|---|---|---|---|---|---|---|---|---|\n",
       "|  9046 | Male   | 67 | 0 | 1 | Yes | Private       | Urban | 228.69 | 36.6 | formerly smoked | 1 |\n",
       "| 51676 | Female | 61 | 0 | 0 | Yes | Self-employed | Rural | 202.21 |   NA | never smoked    | 1 |\n",
       "| 31112 | Male   | 80 | 0 | 1 | Yes | Private       | Rural | 105.92 | 32.5 | never smoked    | 1 |\n",
       "| ⋮ | ⋮ | ⋮ | ⋮ | ⋮ | ⋮ | ⋮ | ⋮ | ⋮ | ⋮ | ⋮ | ⋮ |\n",
       "| 19723 | Female | 35 | 0 | 0 | Yes | Self-employed | Rural |  82.99 | 30.6 | never smoked    | 0 |\n",
       "| 37544 | Male   | 51 | 0 | 0 | Yes | Private       | Rural | 166.29 | 25.6 | formerly smoked | 0 |\n",
       "| 44679 | Female | 44 | 0 | 0 | Yes | Govt_job      | Urban |  85.28 | 26.2 | Unknown         | 0 |\n",
       "\n"
      ],
      "text/plain": [
       "     id    gender age hypertension heart_disease ever_married work_type    \n",
       "1     9046 Male   67  0            1             Yes          Private      \n",
       "2    51676 Female 61  0            0             Yes          Self-employed\n",
       "3    31112 Male   80  0            1             Yes          Private      \n",
       "⋮    ⋮     ⋮      ⋮   ⋮            ⋮             ⋮            ⋮            \n",
       "5108 19723 Female 35  0            0             Yes          Self-employed\n",
       "5109 37544 Male   51  0            0             Yes          Private      \n",
       "5110 44679 Female 44  0            0             Yes          Govt_job     \n",
       "     Residence_type avg_glucose_level bmi  smoking_status  stroke\n",
       "1    Urban          228.69            36.6 formerly smoked 1     \n",
       "2    Rural          202.21              NA never smoked    1     \n",
       "3    Rural          105.92            32.5 never smoked    1     \n",
       "⋮    ⋮              ⋮                 ⋮    ⋮               ⋮     \n",
       "5108 Rural           82.99            30.6 never smoked    0     \n",
       "5109 Rural          166.29            25.6 formerly smoked 0     \n",
       "5110 Urban           85.28            26.2 Unknown         0     "
      ]
     },
     "metadata": {},
     "output_type": "display_data"
    }
   ],
   "source": [
    "url <- \"https://gist.githubusercontent.com/aishwarya8615/d2107f828d3f904839cbcb7eaa85bd04/raw/cec0340503d82d270821e03254993b6dede60afb/healthcare-dataset-stroke-data.csv\"\n",
    "stroke_data <- read_csv(url)\n",
    "\n",
    "## modify variable types\n",
    "stroke_data_final <- stroke_data |>\n",
    "                    mutate (stroke = as.factor(stroke),\n",
    "                           bmi = as.numeric(bmi))\n",
    "stroke_data_final"
   ]
  },
  {
   "cell_type": "markdown",
   "id": "5314eebd-748c-48a5-a3d9-0572c28ace63",
   "metadata": {},
   "source": [
    "To view what correlation various factors have on developing stroke, we will plot three scatter graphs: age vs. average glucose level, age vs. BMI, and BMI vs. average glucose level. These three variables were chosen because they were continuous measurements and are closely related to the develpopment of stroke. "
   ]
  },
  {
   "cell_type": "markdown",
   "id": "224a8ead-b98d-45aa-abed-cac419bc45b4",
   "metadata": {},
   "source": [
    "### Splitting the dataset into training and testing datasets based on stroke history"
   ]
  },
  {
   "cell_type": "code",
   "execution_count": 4,
   "id": "1463a798-341e-49ad-a108-bb7f8b845a59",
   "metadata": {},
   "outputs": [],
   "source": [
    "stroke_split <- initial_split(stroke_data_final, prop = 0.75, strata = stroke)\n",
    "stroke_train <- training(stroke_split)\n",
    "stroke_test <- testing(stroke_split) "
   ]
  },
  {
   "cell_type": "markdown",
   "id": "5c87cd70-9037-429e-8425-62d56158a7d7",
   "metadata": {},
   "source": [
    "### Summary"
   ]
  },
  {
   "cell_type": "markdown",
   "id": "f35bcfd2-fdc5-41ea-8639-06a26fa6682f",
   "metadata": {},
   "source": [
    "The tables below show the min and the max of each continous feature when a person has or has not a stroke"
   ]
  },
  {
   "cell_type": "code",
   "execution_count": 29,
   "id": "44bb7ef4-ba6c-4a3b-ad6b-f65754ae88eb",
   "metadata": {},
   "outputs": [
    {
     "data": {
      "text/html": [
       "<table class=\"dataframe\">\n",
       "<caption>A tibble: 1 × 6</caption>\n",
       "<thead>\n",
       "\t<tr><th scope=col>bmi_min</th><th scope=col>bmi_max</th><th scope=col>avg_glucose_level_min</th><th scope=col>avg_glucose_level_max</th><th scope=col>age_min</th><th scope=col>age_max</th></tr>\n",
       "\t<tr><th scope=col>&lt;dbl&gt;</th><th scope=col>&lt;dbl&gt;</th><th scope=col>&lt;dbl&gt;</th><th scope=col>&lt;dbl&gt;</th><th scope=col>&lt;dbl&gt;</th><th scope=col>&lt;dbl&gt;</th></tr>\n",
       "</thead>\n",
       "<tbody>\n",
       "\t<tr><td>16.9</td><td>56.6</td><td>56.11</td><td>271.74</td><td>14</td><td>82</td></tr>\n",
       "</tbody>\n",
       "</table>\n"
      ],
      "text/latex": [
       "A tibble: 1 × 6\n",
       "\\begin{tabular}{llllll}\n",
       " bmi\\_min & bmi\\_max & avg\\_glucose\\_level\\_min & avg\\_glucose\\_level\\_max & age\\_min & age\\_max\\\\\n",
       " <dbl> & <dbl> & <dbl> & <dbl> & <dbl> & <dbl>\\\\\n",
       "\\hline\n",
       "\t 16.9 & 56.6 & 56.11 & 271.74 & 14 & 82\\\\\n",
       "\\end{tabular}\n"
      ],
      "text/markdown": [
       "\n",
       "A tibble: 1 × 6\n",
       "\n",
       "| bmi_min &lt;dbl&gt; | bmi_max &lt;dbl&gt; | avg_glucose_level_min &lt;dbl&gt; | avg_glucose_level_max &lt;dbl&gt; | age_min &lt;dbl&gt; | age_max &lt;dbl&gt; |\n",
       "|---|---|---|---|---|---|\n",
       "| 16.9 | 56.6 | 56.11 | 271.74 | 14 | 82 |\n",
       "\n"
      ],
      "text/plain": [
       "  bmi_min bmi_max avg_glucose_level_min avg_glucose_level_max age_min age_max\n",
       "1 16.9    56.6    56.11                 271.74                14      82     "
      ]
     },
     "metadata": {},
     "output_type": "display_data"
    },
    {
     "data": {
      "text/html": [
       "<table class=\"dataframe\">\n",
       "<caption>A tibble: 1 × 6</caption>\n",
       "<thead>\n",
       "\t<tr><th scope=col>bmi_min</th><th scope=col>bmi_max</th><th scope=col>avg_glucose_level_min</th><th scope=col>avg_glucose_level_max</th><th scope=col>age_min</th><th scope=col>age_max</th></tr>\n",
       "\t<tr><th scope=col>&lt;dbl&gt;</th><th scope=col>&lt;dbl&gt;</th><th scope=col>&lt;dbl&gt;</th><th scope=col>&lt;dbl&gt;</th><th scope=col>&lt;dbl&gt;</th><th scope=col>&lt;dbl&gt;</th></tr>\n",
       "</thead>\n",
       "<tbody>\n",
       "\t<tr><td>10.3</td><td>97.6</td><td>55.12</td><td>267.76</td><td>0.08</td><td>82</td></tr>\n",
       "</tbody>\n",
       "</table>\n"
      ],
      "text/latex": [
       "A tibble: 1 × 6\n",
       "\\begin{tabular}{llllll}\n",
       " bmi\\_min & bmi\\_max & avg\\_glucose\\_level\\_min & avg\\_glucose\\_level\\_max & age\\_min & age\\_max\\\\\n",
       " <dbl> & <dbl> & <dbl> & <dbl> & <dbl> & <dbl>\\\\\n",
       "\\hline\n",
       "\t 10.3 & 97.6 & 55.12 & 267.76 & 0.08 & 82\\\\\n",
       "\\end{tabular}\n"
      ],
      "text/markdown": [
       "\n",
       "A tibble: 1 × 6\n",
       "\n",
       "| bmi_min &lt;dbl&gt; | bmi_max &lt;dbl&gt; | avg_glucose_level_min &lt;dbl&gt; | avg_glucose_level_max &lt;dbl&gt; | age_min &lt;dbl&gt; | age_max &lt;dbl&gt; |\n",
       "|---|---|---|---|---|---|\n",
       "| 10.3 | 97.6 | 55.12 | 267.76 | 0.08 | 82 |\n",
       "\n"
      ],
      "text/plain": [
       "  bmi_min bmi_max avg_glucose_level_min avg_glucose_level_max age_min age_max\n",
       "1 10.3    97.6    55.12                 267.76                0.08    82     "
      ]
     },
     "metadata": {},
     "output_type": "display_data"
    }
   ],
   "source": [
    "continous_factors <- select(stroke_train, bmi,avg_glucose_level,age,stroke)\n",
    "\n",
    "factors_with_stroke <- filter(continous_factors, stroke == 1)\n",
    "factors_without_stroke <- filter(continous_factors, stroke == 0)\n",
    "\n",
    "\n",
    "min_max <- list(\n",
    "  min = ~min(.x, na.rm = TRUE), \n",
    "  max = ~max(.x, na.rm = TRUE)\n",
    ")\n",
    "\n",
    "avg <- list(\n",
    "  avg = ~mean(.x, na.rm = TRUE)\n",
    ")\n",
    "\n",
    "\n",
    "\n",
    "factors_with_stroke |> summarise(across(where(is.numeric), min_max))\n",
    "factors_without_stroke |> summarise(across(where(is.numeric), min_max))\n",
    "\n",
    "\n"
   ]
  },
  {
   "cell_type": "markdown",
   "id": "2a0ed5e4-d5b0-4616-89ed-fb7a413d962c",
   "metadata": {},
   "source": [
    "The tables below show the average of each continous feature when people have or have not a stroke"
   ]
  },
  {
   "cell_type": "code",
   "execution_count": 30,
   "id": "09c723ed-bf78-49ec-8c16-2f34cadad0c3",
   "metadata": {},
   "outputs": [
    {
     "data": {
      "text/html": [
       "<table class=\"dataframe\">\n",
       "<caption>A tibble: 1 × 3</caption>\n",
       "<thead>\n",
       "\t<tr><th scope=col>bmi_avg</th><th scope=col>avg_glucose_level_avg</th><th scope=col>age_avg</th></tr>\n",
       "\t<tr><th scope=col>&lt;dbl&gt;</th><th scope=col>&lt;dbl&gt;</th><th scope=col>&lt;dbl&gt;</th></tr>\n",
       "</thead>\n",
       "<tbody>\n",
       "\t<tr><td>30.61006</td><td>133.6202</td><td>68.03743</td></tr>\n",
       "</tbody>\n",
       "</table>\n"
      ],
      "text/latex": [
       "A tibble: 1 × 3\n",
       "\\begin{tabular}{lll}\n",
       " bmi\\_avg & avg\\_glucose\\_level\\_avg & age\\_avg\\\\\n",
       " <dbl> & <dbl> & <dbl>\\\\\n",
       "\\hline\n",
       "\t 30.61006 & 133.6202 & 68.03743\\\\\n",
       "\\end{tabular}\n"
      ],
      "text/markdown": [
       "\n",
       "A tibble: 1 × 3\n",
       "\n",
       "| bmi_avg &lt;dbl&gt; | avg_glucose_level_avg &lt;dbl&gt; | age_avg &lt;dbl&gt; |\n",
       "|---|---|---|\n",
       "| 30.61006 | 133.6202 | 68.03743 |\n",
       "\n"
      ],
      "text/plain": [
       "  bmi_avg  avg_glucose_level_avg age_avg \n",
       "1 30.61006 133.6202              68.03743"
      ]
     },
     "metadata": {},
     "output_type": "display_data"
    },
    {
     "data": {
      "text/html": [
       "<table class=\"dataframe\">\n",
       "<caption>A tibble: 1 × 3</caption>\n",
       "<thead>\n",
       "\t<tr><th scope=col>bmi_avg</th><th scope=col>avg_glucose_level_avg</th><th scope=col>age_avg</th></tr>\n",
       "\t<tr><th scope=col>&lt;dbl&gt;</th><th scope=col>&lt;dbl&gt;</th><th scope=col>&lt;dbl&gt;</th></tr>\n",
       "</thead>\n",
       "<tbody>\n",
       "\t<tr><td>28.8646</td><td>104.588</td><td>41.9125</td></tr>\n",
       "</tbody>\n",
       "</table>\n"
      ],
      "text/latex": [
       "A tibble: 1 × 3\n",
       "\\begin{tabular}{lll}\n",
       " bmi\\_avg & avg\\_glucose\\_level\\_avg & age\\_avg\\\\\n",
       " <dbl> & <dbl> & <dbl>\\\\\n",
       "\\hline\n",
       "\t 28.8646 & 104.588 & 41.9125\\\\\n",
       "\\end{tabular}\n"
      ],
      "text/markdown": [
       "\n",
       "A tibble: 1 × 3\n",
       "\n",
       "| bmi_avg &lt;dbl&gt; | avg_glucose_level_avg &lt;dbl&gt; | age_avg &lt;dbl&gt; |\n",
       "|---|---|---|\n",
       "| 28.8646 | 104.588 | 41.9125 |\n",
       "\n"
      ],
      "text/plain": [
       "  bmi_avg avg_glucose_level_avg age_avg\n",
       "1 28.8646 104.588               41.9125"
      ]
     },
     "metadata": {},
     "output_type": "display_data"
    }
   ],
   "source": [
    "factors_with_stroke |> summarise(across(where(is.numeric), avg))\n",
    "factors_without_stroke |> summarise(across(where(is.numeric), avg))"
   ]
  },
  {
   "cell_type": "markdown",
   "id": "25d4a0e4-a15d-450a-a6c2-5c571fff14ec",
   "metadata": {},
   "source": [
    "The table below shows how many cells with missing data are present in each column. This is imoprtant as we need to exclude any examples which may have incomplete data"
   ]
  },
  {
   "cell_type": "code",
   "execution_count": 31,
   "id": "8db5ab06-00fc-4432-b1ec-b2a5a216dfb8",
   "metadata": {},
   "outputs": [
    {
     "data": {
      "text/html": [
       "<table class=\"dataframe\">\n",
       "<caption>A tibble: 1 × 6</caption>\n",
       "<thead>\n",
       "\t<tr><th scope=col>With stroke: Bmi</th><th scope=col>With stroke: Avg Glucose</th><th scope=col>With stroke: Age</th><th scope=col>Without stroke: Bmi</th><th scope=col>Without stroke: Avg Glucose</th><th scope=col>Without stroke: Age</th></tr>\n",
       "\t<tr><th scope=col>&lt;int&gt;</th><th scope=col>&lt;int&gt;</th><th scope=col>&lt;int&gt;</th><th scope=col>&lt;int&gt;</th><th scope=col>&lt;int&gt;</th><th scope=col>&lt;int&gt;</th></tr>\n",
       "</thead>\n",
       "<tbody>\n",
       "\t<tr><td>28</td><td>0</td><td>28</td><td>120</td><td>0</td><td>0</td></tr>\n",
       "</tbody>\n",
       "</table>\n"
      ],
      "text/latex": [
       "A tibble: 1 × 6\n",
       "\\begin{tabular}{llllll}\n",
       " With stroke: Bmi & With stroke: Avg Glucose & With stroke: Age & Without stroke: Bmi & Without stroke: Avg Glucose & Without stroke: Age\\\\\n",
       " <int> & <int> & <int> & <int> & <int> & <int>\\\\\n",
       "\\hline\n",
       "\t 28 & 0 & 28 & 120 & 0 & 0\\\\\n",
       "\\end{tabular}\n"
      ],
      "text/markdown": [
       "\n",
       "A tibble: 1 × 6\n",
       "\n",
       "| With stroke: Bmi &lt;int&gt; | With stroke: Avg Glucose &lt;int&gt; | With stroke: Age &lt;int&gt; | Without stroke: Bmi &lt;int&gt; | Without stroke: Avg Glucose &lt;int&gt; | Without stroke: Age &lt;int&gt; |\n",
       "|---|---|---|---|---|---|\n",
       "| 28 | 0 | 28 | 120 | 0 | 0 |\n",
       "\n"
      ],
      "text/plain": [
       "  With stroke: Bmi With stroke: Avg Glucose With stroke: Age\n",
       "1 28               0                        28              \n",
       "  Without stroke: Bmi Without stroke: Avg Glucose Without stroke: Age\n",
       "1 120                 0                           0                  "
      ]
     },
     "metadata": {},
     "output_type": "display_data"
    }
   ],
   "source": [
    "stroke_bmi <- sum(is.na(factors_with_stroke$bmi))\n",
    "stroke_avg_glucos <- sum(is.na(factors_with_stroke$avg_glucose_level))\n",
    "stroke_age <- sum(is.na(factors_with_stroke$age))\n",
    "no_stroke_bmi <- sum(is.na(factors_without_stroke$bmi))\n",
    "no_stroke_averge_glucose <- sum(is.na(factors_without_stroke$avg_glucose_level))\n",
    "no_stroke_age <- sum(is.na(factors_without_stroke$age))\n",
    "\n",
    "missing_data <- tibble(\"With stroke: Bmi\" = stroke_bmi, \"With stroke: Avg Glucose\" = stroke_avg_glucos, \"With stroke: Age\" = stroke_bmi, \n",
    "            \"Without stroke: Bmi\" = no_stroke_bmi, \"Without stroke: Avg Glucose\" = no_stroke_averge_glucose, \"Without stroke: Age\" = no_stroke_age)\n",
    "missing_data"
   ]
  },
  {
   "cell_type": "markdown",
   "id": "f8394979-558c-4c57-a713-443d56952730",
   "metadata": {},
   "source": [
    "### Data Visualization"
   ]
  },
  {
   "cell_type": "code",
   "execution_count": 16,
   "id": "2358f9ff-daca-44c1-9f84-95ee70dcd43f",
   "metadata": {},
   "outputs": [
    {
     "ename": "ERROR",
     "evalue": "Error in title(\"Age vs Glucose\"): plot.new has not been called yet\n",
     "output_type": "error",
     "traceback": [
      "Error in title(\"Age vs Glucose\"): plot.new has not been called yet\nTraceback:\n",
      "1. title(\"Age vs Glucose\")"
     ]
    }
   ],
   "source": [
    "options(repr.plot.width = 20, repr.plot.height = 20)\n",
    "\n",
    "age_vs_glucose <- ggplot (stroke_train, aes(x=age, y=avg_glucose_level, color= stroke))+\n",
    "                geom_point(aes(alpha = stroke))+\n",
    "                scale_alpha_manual(values = c(0.1, 1))+\n",
    "                scale_color_manual(values = c(\"red\", \"blue\"))+\n",
    "                labs(x=\"Age\", y=\"Average Blood Glucose Level (mg/dL)\", color = \"Stroke History\")+\n",
    "                theme(text = element_text(size = 15))\n",
    "options(repr.plot.width = 15, repr.plot.length = 20)\n",
    "\n",
    "age_vs_bmi <- ggplot (stroke_train, aes(x=age, y=bmi, color= stroke))+\n",
    "                geom_point(aes(alpha = stroke))+\n",
    "                scale_alpha_manual(values = c(0.1, 1))+\n",
    "                scale_color_manual(values = c(\"red\", \"blue\"))+\n",
    "                labs(x=\"Age\", y=\"body Mass Index (kg/m^2)\", color = \"Stroke History\")+\n",
    "                theme(text = element_text(size = 15))\n",
    "options(repr.plot.width = 15, repr.plot.length = 20)\n",
    "\n",
    "avg_glucose_vs_bmi <- ggplot (stroke_train, aes(x=avg_glucose_level, y=bmi, color= stroke))+\n",
    "                geom_point(aes(alpha = stroke))+\n",
    "                scale_alpha_manual(values = c(0.1, 1))+\n",
    "                scale_color_manual(values = c(\"red\", \"blue\"))+\n",
    "                labs(x=\"Average Blood Glucose Level (mg/dL)\", y=\"body Mass Index (kg/m^2)\", color = \"Stroke History\")+\n",
    "                theme(text = element_text(size = 15))\n",
    "options(repr.plot.width = 15, repr.plot.length = 20)\n",
    "\n",
    "plot_grid(age_vs_glucose, age_vs_bmi, avg_glucose_vs_bmi, ncol = 1)"
   ]
  },
  {
   "cell_type": "markdown",
   "id": "7feb7de6-7d90-4738-b59c-f418eebe8bcd",
   "metadata": {},
   "source": [
    "## Methods\n",
    "\n",
    "We use classification since we are more interested in predicting potential strokes rather than finding dependency relationship between stroke and other variables (regression). While the latter helps with finding out causes of stroke (and how strongly they contribute to stroke), classification provides useful warning as it allows the patient to be more aware of their lifestyle and doctors more proactive in diagnosis and treatment.\n",
    "\n",
    "To build our model, we split our initial data so that 75% will be used in the training data and the rest for the test data. We also need to set a seed so that the code is reproducible. We will then build the model using the optimal K value found from applying cross-validation on the training data.\n",
    "\n",
    "Three columns from the dataset will be used in this study: age, BMI, and average blood glucose level. These three variables are chosen not only because they are three important factors that contribute to an individual’s risk of developing stroke, but their continuous property makes it easier to establish the correlation with having a stroke. To visualize the relationship between the three factors and with stroke, we will produce three scatter plots: age vs. BMI, age vs. average blood glucose level, and finally BMI vs. average blood glucose level. All three plots will have datapoints color labeled to show the history of stroke (have had stroke or not).\n",
    "\n",
    "## Expected outcomes and significance\n",
    "\n",
    "We expect the model to find more potential stroke cases among elderly people compared to young people. We expect BMI and age to also contribute to risks of stroke, albeit not as strong, but this is a regression problem that is not within our scope.\n",
    "\n",
    "By developing this stroke predictor, we hope to use a set of conditions that could potentially contribute to the development of strokes to predict whether an individual will develop their first stroke in the future. We will also examine the accuracy of this predictor for any future improvements. In a real-life setting, this predictor can be used for stroke prevention among high-risk patients and to promote lifestyle changes to reduce the risk of stroke. As this predictor only predicts the first stroke of an individual, while one in four stroke patients in the US (CDC, 2022) experiences a second stroke sometime in their life, future work can be done to predict the chance of having multiple strokes based on a more extensive range of health conditions and it could raise new inquiries regarding additional risk factors that could improve the model.\n",
    "\n",
    "**References:** \n",
    "https://www.cdc.gov/stroke/facts.htm#:~:text=Stroke%20statistics,-In%202020%2C%201&text=Every%20year%2C%20more%20than%20795%2C000,are%20first%20or%20new%20strokes.&text=About%20185%2C000%20strokes%E2%80%94nearly%201,have%20had%20a%20previous%20stroke.&text=About%2087%25%20of%20all%20strokes,to%20the%20brain%20is%20blocked.\n"
   ]
  }
 ],
 "metadata": {
  "kernelspec": {
   "display_name": "R",
   "language": "R",
   "name": "ir"
  },
  "language_info": {
   "codemirror_mode": "r",
   "file_extension": ".r",
   "mimetype": "text/x-r-source",
   "name": "R",
   "pygments_lexer": "r",
   "version": "4.1.3"
  }
 },
 "nbformat": 4,
 "nbformat_minor": 5
}
